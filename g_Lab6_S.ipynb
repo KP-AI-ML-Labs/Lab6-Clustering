{
 "cells": [
  {
   "cell_type": "markdown",
   "metadata": {},
   "source": [
    "# Lab 6: Finding Match Archetypes - Unsupervised Clustering\n",
    "\n",
    "**Student Name:** [Your Name]\n",
    "**Roll Number:** [Your Roll Number]"
   ]
  },
  {
   "cell_type": "markdown",
   "metadata": {},
   "source": [
    "### 📖 Story Point\n",
    "So far, we've been telling the models what to predict (Supervised Learning). What if we don't have labels? Can the data reveal its own structure? Our firm wants to categorize matches into different 'archetypes' (e.g., 'low-scoring thrillers', 'one-sided high-scoring games') to better understand the game's dynamics. We will use K-Means Clustering to let the data speak for itself."
   ]
  },
  {
   "cell_type": "markdown",
   "metadata": {},
   "source": [
    "### 🎯 Objective\n",
    "Use the K-Means clustering algorithm to discover natural groupings or 'archetypes' of cricket matches based on their statistical properties."
   ]
  },
  {
   "cell_type": "markdown",
   "metadata": {},
   "source": [
    "### ✅ In-Class Tasks"
   ]
  },
  {
   "cell_type": "markdown",
   "metadata": {},
   "source": [
    "#### Task 1: Load Data and Select Features\n",
    "Load the `simulated_match_data_for_clustering.csv` file. For clustering, we need to select the features that will define our 'archetypes'. Select the columns `first_innings_score`, `total_wickets_in_match`, and `score_difference` as your feature set `X`."
   ]
  },
  {
   "cell_type": "code",
   "execution_count": null,
   "metadata": {},
   "outputs": [],
   "source": []
  },
  {
   "cell_type": "markdown",
   "metadata": {},
   "source": [
    "#### Task 2: Data Scaling\n",
    "K-Means is sensitive to the scale of features (e.g., a `score_difference` of 80 will dominate a `total_wickets` of 15). Use `StandardScaler` from `sklearn.preprocessing` to scale your features so they all have a similar range."
   ]
  },
  {
   "cell_type": "code",
   "execution_count": null,
   "metadata": {},
   "outputs": [],
   "source": []
  },
  {
   "cell_type": "markdown",
   "metadata": {},
   "source": [
    "#### Task 3: Find the Optimal Number of Clusters (Elbow Method)\n",
    "We need to decide how many clusters (`k`) to create. Use the Elbow Method: run K-Means for a range of `k` values (e.g., 1 to 10) and plot the inertia (within-cluster sum of squares) for each. The 'elbow' in the plot suggests the optimal `k`."
   ]
  },
  {
   "cell_type": "code",
   "execution_count": null,
   "metadata": {},
   "outputs": [],
   "source": []
  },
  {
   "cell_type": "markdown",
   "metadata": {},
   "source": [
    "#### Task 4: Train K-Means and Assign Clusters\n",
    "Based on your elbow plot, choose an optimal `k`. Train a `KMeans` model with this `k` and assign the resulting cluster labels back to your original DataFrame."
   ]
  },
  {
   "cell_type": "code",
   "execution_count": null,
   "metadata": {},
   "outputs": [],
   "source": []
  },
  {
   "cell_type": "markdown",
   "metadata": {},
   "source": [
    "#### Task 5: Visualize the Clusters\n",
    "Create a 2D scatter plot to visualize the discovered clusters. Plot `first_innings_score` vs. `score_difference` and color the points by their assigned cluster label."
   ]
  },
  {
   "cell_type": "code",
   "execution_count": null,
   "metadata": {},
   "outputs": [],
   "source": []
  },
  {
   "cell_type": "markdown",
   "metadata": {},
   "source": [
    "### deliverables\n",
    "A notebook containing an Elbow Method plot to justify your choice of `k`, and a scatter plot visualizing the final clusters."
   ]
  },
  {
   "cell_type": "markdown",
   "metadata": {},
   "source": [
    "---"
   ]
  },
  {
   "cell_type": "markdown",
   "metadata": {},
   "source": [
    "### 🏡 Home Task Extension\n",
    "Visualizing is good, but interpreting the clusters is the real goal. What does each cluster *mean*?\n",
    "\n",
    "**Your Task:**\n",
    "1. Calculate the mean values of your original (unscaled) features for each discovered cluster. You can do this using `df.groupby('cluster').mean()`.\n",
    "2. Based on these mean values, write a descriptive name or 'persona' for each cluster. For example, 'High-Scoring, One-Sided Contests' or 'Low-Scoring, Close Fights'."
   ]
  },
  {
   "cell_type": "code",
   "execution_count": null,
   "metadata": {},
   "outputs": [],
   "source": []
  }
 ],
 "metadata": {
  "kernelspec": {
   "display_name": "Python 3",
   "language": "python",
   "name": "python3"
  }
 },
 "nbformat": 4,
 "nbformat_minor": 4
}